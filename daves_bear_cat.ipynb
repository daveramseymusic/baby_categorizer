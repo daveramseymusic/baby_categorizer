{
 "cells": [
  {
   "cell_type": "code",
   "execution_count": 39,
   "metadata": {},
   "outputs": [],
   "source": [
    "from fastai.vision.all import *\n",
    "from fastai.vision.widgets import *"
   ]
  },
  {
   "cell_type": "code",
   "execution_count": 40,
   "metadata": {},
   "outputs": [],
   "source": [
    "#load your learner export.pkl\n",
    "learn_inf = load_learner('export.pkl')\n",
    "\n",
    "#setup your widgets/buttons\n",
    "btn_upload = widgets.FileUpload()\n",
    "out_pl = widgets.Output()\n",
    "lbl_pred = widgets.Label()\n",
    "btn_run = widgets.Button(description='Classify')"
   ]
  },
  {
   "cell_type": "code",
   "execution_count": 41,
   "metadata": {},
   "outputs": [],
   "source": [
    "def on_click_classify(change):\n",
    "    img = PILImage.create(btn_upload.data[-1])\n",
    "    out_pl.clear_output()\n",
    "    with out_pl: display(img.to_thumb(128,128))\n",
    "    pred,pred_idx,probs = learn_inf.predict(img)\n",
    "    lbl_pred.value = f'Prediction: {pred}; Probability: {probs[pred_idx]:.04f}'"
   ]
  },
  {
   "cell_type": "code",
   "execution_count": 42,
   "metadata": {},
   "outputs": [],
   "source": [
    "btn_run.on_click(on_click_classify)\n",
    "# btn_upload.observe(on_click,names=['data'])"
   ]
  },
  {
   "source": [
    "# Dave's Bear Categorizing FastAI Thingy\n",
    "\n",
    "## Grizzly, Black, or Teddy\n",
    "\n",
    "Sometimes You Train a Deep Learning Model to \n",
    "Tell the difference between black bears, grizzly bears, and teddy bears.\n",
    "for like... no reason\n",
    "\n",
    "Go ahead.  Load a picture of one of these bears here.\n",
    "\n",
    "Lets see if the computer can tell which bear it is.\n",
    "Note: must be either black, grizzly, or teddy"
   ],
   "cell_type": "markdown",
   "metadata": {}
  },
  {
   "source": [
    "\n",
    "VBox([widgets.Label('Select your bear!'),\n",
    "      btn_upload, btn_run, out_pl, lbl_pred])"
   ],
   "cell_type": "code",
   "metadata": {},
   "execution_count": null,
   "outputs": []
  }
 ],
 "metadata": {
  "jupytext": {
   "split_at_heading": true
  },
  "kernelspec": {
   "display_name": "Python 3",
   "language": "python",
   "name": "python3"
  },
  "language_info": {
   "codemirror_mode": {
    "name": "ipython",
    "version": 3
   },
   "file_extension": ".py",
   "mimetype": "text/x-python",
   "name": "python",
   "nbconvert_exporter": "python",
   "pygments_lexer": "ipython3",
   "version": "3.7.6-final"
  }
 },
 "nbformat": 4,
 "nbformat_minor": 4
}